{
 "cells": [
  {
   "cell_type": "markdown",
   "metadata": {
    "colab_type": "text",
    "deletable": true,
    "editable": true,
    "id": "kR-4eNdK6lYS"
   },
   "source": [
    "Deep Learning\n",
    "=============\n",
    "\n",
    "Assignment 3\n",
    "------------\n",
    "\n",
    "Previously in `2_fullyconnected.ipynb`, you trained a logistic regression and a neural network model.\n",
    "\n",
    "The goal of this assignment is to explore regularization techniques."
   ]
  },
  {
   "cell_type": "code",
   "execution_count": 1,
   "metadata": {
    "cellView": "both",
    "colab": {
     "autoexec": {
      "startup": false,
      "wait_interval": 0
     }
    },
    "colab_type": "code",
    "collapsed": true,
    "deletable": true,
    "editable": true,
    "id": "JLpLa8Jt7Vu4"
   },
   "outputs": [],
   "source": [
    "# These are all the modules we'll be using later. Make sure you can import them\n",
    "# before proceeding further.\n",
    "from __future__ import print_function\n",
    "import numpy as np\n",
    "import tensorflow as tf\n",
    "from six.moves import cPickle as pickle"
   ]
  },
  {
   "cell_type": "markdown",
   "metadata": {
    "colab_type": "text",
    "deletable": true,
    "editable": true,
    "id": "1HrCK6e17WzV"
   },
   "source": [
    "First reload the data we generated in `1_notmnist.ipynb`."
   ]
  },
  {
   "cell_type": "code",
   "execution_count": 2,
   "metadata": {
    "cellView": "both",
    "colab": {
     "autoexec": {
      "startup": false,
      "wait_interval": 0
     },
     "output_extras": [
      {
       "item_id": 1
      }
     ]
    },
    "colab_type": "code",
    "collapsed": false,
    "deletable": true,
    "editable": true,
    "executionInfo": {
     "elapsed": 11777,
     "status": "ok",
     "timestamp": 1449849322348,
     "user": {
      "color": "",
      "displayName": "",
      "isAnonymous": false,
      "isMe": true,
      "permissionId": "",
      "photoUrl": "",
      "sessionId": "0",
      "userId": ""
     },
     "user_tz": 480
    },
    "id": "y3-cj1bpmuxc",
    "outputId": "e03576f1-ebbe-4838-c388-f1777bcc9873"
   },
   "outputs": [
    {
     "name": "stdout",
     "output_type": "stream",
     "text": [
      "Training set (200000, 28, 28) (200000,)\n",
      "Validation set (10000, 28, 28) (10000,)\n",
      "Test set (10000, 28, 28) (10000,)\n"
     ]
    }
   ],
   "source": [
    "pickle_file = 'notMNIST.pickle'\n",
    "\n",
    "with open(pickle_file, 'rb') as f:\n",
    "  save = pickle.load(f)\n",
    "  train_dataset = save['train_dataset']\n",
    "  train_labels = save['train_labels']\n",
    "  valid_dataset = save['valid_dataset']\n",
    "  valid_labels = save['valid_labels']\n",
    "  test_dataset = save['test_dataset']\n",
    "  test_labels = save['test_labels']\n",
    "  del save  # hint to help gc free up memory\n",
    "  print('Training set', train_dataset.shape, train_labels.shape)\n",
    "  print('Validation set', valid_dataset.shape, valid_labels.shape)\n",
    "  print('Test set', test_dataset.shape, test_labels.shape)"
   ]
  },
  {
   "cell_type": "markdown",
   "metadata": {
    "colab_type": "text",
    "deletable": true,
    "editable": true,
    "id": "L7aHrm6nGDMB"
   },
   "source": [
    "Reformat into a shape that's more adapted to the models we're going to train:\n",
    "- data as a flat matrix,\n",
    "- labels as float 1-hot encodings."
   ]
  },
  {
   "cell_type": "code",
   "execution_count": 3,
   "metadata": {
    "cellView": "both",
    "colab": {
     "autoexec": {
      "startup": false,
      "wait_interval": 0
     },
     "output_extras": [
      {
       "item_id": 1
      }
     ]
    },
    "colab_type": "code",
    "collapsed": false,
    "deletable": true,
    "editable": true,
    "executionInfo": {
     "elapsed": 11728,
     "status": "ok",
     "timestamp": 1449849322356,
     "user": {
      "color": "",
      "displayName": "",
      "isAnonymous": false,
      "isMe": true,
      "permissionId": "",
      "photoUrl": "",
      "sessionId": "0",
      "userId": ""
     },
     "user_tz": 480
    },
    "id": "IRSyYiIIGIzS",
    "outputId": "3f8996ee-3574-4f44-c953-5c8a04636582"
   },
   "outputs": [
    {
     "name": "stdout",
     "output_type": "stream",
     "text": [
      "Training set (200000, 784) (200000, 10)\n",
      "Validation set (10000, 784) (10000, 10)\n",
      "Test set (10000, 784) (10000, 10)\n"
     ]
    }
   ],
   "source": [
    "image_size = 28\n",
    "num_labels = 10\n",
    "\n",
    "def reformat(dataset, labels):\n",
    "  dataset = dataset.reshape((-1, image_size * image_size)).astype(np.float32)\n",
    "  # Map 1 to [0.0, 1.0, 0.0 ...], 2 to [0.0, 0.0, 1.0 ...]\n",
    "  labels = (np.arange(num_labels) == labels[:,None]).astype(np.float32)\n",
    "  return dataset, labels\n",
    "train_dataset, train_labels = reformat(train_dataset, train_labels)\n",
    "valid_dataset, valid_labels = reformat(valid_dataset, valid_labels)\n",
    "test_dataset, test_labels = reformat(test_dataset, test_labels)\n",
    "print('Training set', train_dataset.shape, train_labels.shape)\n",
    "print('Validation set', valid_dataset.shape, valid_labels.shape)\n",
    "print('Test set', test_dataset.shape, test_labels.shape)"
   ]
  },
  {
   "cell_type": "code",
   "execution_count": 4,
   "metadata": {
    "cellView": "both",
    "colab": {
     "autoexec": {
      "startup": false,
      "wait_interval": 0
     }
    },
    "colab_type": "code",
    "collapsed": true,
    "deletable": true,
    "editable": true,
    "id": "RajPLaL_ZW6w"
   },
   "outputs": [],
   "source": [
    "def accuracy(predictions, labels):\n",
    "  return (100.0 * np.sum(np.argmax(predictions, 1) == np.argmax(labels, 1))\n",
    "          / predictions.shape[0])"
   ]
  },
  {
   "cell_type": "markdown",
   "metadata": {
    "colab_type": "text",
    "deletable": true,
    "editable": true,
    "id": "sgLbUAQ1CW-1"
   },
   "source": [
    "---\n",
    "Problem 1\n",
    "---------\n",
    "\n",
    "Introduce and tune L2 regularization for both logistic and neural network models. Remember that L2 amounts to adding a penalty on the norm of the weights to the loss. In TensorFlow, you can compute the L2 loss for a tensor `t` using `nn.l2_loss(t)`. The right amount of regularization should improve your validation / test accuracy.\n",
    "\n",
    "---"
   ]
  },
  {
   "cell_type": "code",
   "execution_count": 25,
   "metadata": {
    "collapsed": false,
    "deletable": true,
    "editable": true
   },
   "outputs": [],
   "source": [
    "from itertools import chain\n",
    "from IPython.display import display\n",
    "\n",
    "batch_size = 128\n",
    "hidden_layers = [256, 128, 64]\n",
    "use_l2_reg = False\n",
    "use_dropout_reg = True\n",
    "use_learning_rate_decay = False\n",
    "start_learn_rate = 0.05\n",
    "decay_steps = 500\n",
    "decay_by = 0.97\n",
    "\n",
    "# helper functions\n",
    "def weight_variable(i, shape):\n",
    "  #initial = tf.truncated_normal(shape) #default, doesnt work for more than 1 hidden layer (gives nan)\n",
    "  stddev = np.sqrt(2.0/shape[0])\n",
    "  initial = tf.truncated_normal(shape, stddev=stddev) #from blog, uses xavier initialization\n",
    "  return tf.Variable(initial)\n",
    "  #xavier initalizer (advised as solution to nan problem)\n",
    "  #return tf.get_variable(name='W'+str(i), shape=shape, initializer=tf.contrib.layers.xavier_initializer())\n",
    "\n",
    "def bias_variable(shape):\n",
    "  initial = tf.zeros(shape)\n",
    "  #initial = tf.constant(0.1, shape=shape)\n",
    "  return tf.Variable(initial)\n",
    "\n",
    "def calc_nn_logits(var, weights, biases, use_dropout=False): \n",
    "    layer_out = tf.matmul(var, weights[0]) + biases[0]\n",
    "    for i in range(1, len(weights)):\n",
    "        if use_dropout: #Only on hidden layers input: activations (network cannot rely on any given activation)\n",
    "             layer_out = tf.nn.dropout(layer_out, keep_prob=0.5)\n",
    "        layer_out = tf.matmul(\n",
    "            tf.nn.relu(layer_out), weights[i]\n",
    "        ) + biases[i]\n",
    "    return layer_out\n",
    "\n",
    "def calc_l2_reg(weights):\n",
    "    return 1e-3 * sum(map(tf.nn.l2_loss, weights))\n",
    "\n",
    "graph = tf.Graph()\n",
    "with graph.as_default():\n",
    "\n",
    "  # Input data. For the training data, we use a placeholder that will be fed\n",
    "  # at run time with a training minibatch.\n",
    "  tf_train_dataset = tf.placeholder(tf.float32,\n",
    "                                    shape=(batch_size, image_size * image_size))\n",
    "  tf_train_labels = tf.placeholder(tf.float32, shape=(batch_size, num_labels))\n",
    "  tf_valid_dataset = tf.constant(valid_dataset)\n",
    "  tf_test_dataset = tf.constant(test_dataset)\n",
    "  \n",
    "  # Layers\n",
    "  layers_sizes = [image_size*image_size] + hidden_layers + [num_labels]\n",
    "  #display(layers_sizes)\n",
    "    \n",
    "  # Variables.\n",
    "  weights = []\n",
    "  biases = []\n",
    "  for i in range(len(layers_sizes)-1):\n",
    "        current_layer_size = layers_sizes[i]\n",
    "        next_layer_size = layers_sizes[i+1]\n",
    "        layer_weights = weight_variable(i, [current_layer_size, next_layer_size])\n",
    "        layer_biases = bias_variable([next_layer_size])\n",
    "        weights.append(layer_weights)\n",
    "        biases.append(layer_biases)\n",
    "\n",
    "  # Training computation.\n",
    "  logits = calc_nn_logits(tf_train_dataset, weights, biases, use_dropout_reg)\n",
    "  loss = tf.reduce_mean(\n",
    "        tf.nn.softmax_cross_entropy_with_logits(labels=tf_train_labels, logits=logits)\n",
    "        )\n",
    "  if use_l2_reg:\n",
    "        regulazation = calc_l2_reg(weights)\n",
    "        loss += regulazation\n",
    "\n",
    "  # Optimizer.\n",
    "  if use_learning_rate_decay:\n",
    "        global_step = tf.Variable(0)  # count the number of steps taken.\n",
    "        learning_rate = tf.train.exponential_decay(start_learn_rate, global_step, decay_steps, decay_by, staircase=True)\n",
    "        optimizer = tf.train.GradientDescentOptimizer(learning_rate).minimize(loss, global_step=global_step)\n",
    "  else:\n",
    "        optimizer = tf.train.GradientDescentOptimizer(0.05).minimize(loss)\n",
    "  \n",
    "  # Predictions for the training, validation, and test data.\n",
    "  train_prediction = tf.nn.softmax(logits)\n",
    "  valid_prediction = tf.nn.softmax(calc_nn_logits(tf_valid_dataset, weights, biases))\n",
    "  test_prediction = tf.nn.softmax(calc_nn_logits(tf_test_dataset, weights, biases))"
   ]
  },
  {
   "cell_type": "code",
   "execution_count": null,
   "metadata": {
    "collapsed": false,
    "deletable": true,
    "editable": true,
    "scrolled": false
   },
   "outputs": [
    {
     "name": "stdout",
     "output_type": "stream",
     "text": [
      "Initialized\n",
      "Minibatch loss at step 0: 2.863114\n",
      "Minibatch accuracy: 10.2%\n",
      "Validation accuracy: 8.5%\n",
      "Minibatch loss at step 500: 0.842699\n",
      "Minibatch accuracy: 72.7%\n",
      "Validation accuracy: 81.1%\n",
      "Minibatch loss at step 1000: 0.656476\n",
      "Minibatch accuracy: 79.7%\n",
      "Validation accuracy: 83.0%\n",
      "Minibatch loss at step 1500: 0.838550\n",
      "Minibatch accuracy: 76.6%\n",
      "Validation accuracy: 83.3%\n",
      "Minibatch loss at step 2000: 0.726018\n",
      "Minibatch accuracy: 78.9%\n",
      "Validation accuracy: 83.7%\n",
      "Minibatch loss at step 2500: 0.554397\n",
      "Minibatch accuracy: 86.7%\n",
      "Validation accuracy: 84.2%\n",
      "Minibatch loss at step 3000: 0.667634\n",
      "Minibatch accuracy: 79.7%\n",
      "Validation accuracy: 84.5%\n",
      "Minibatch loss at step 3500: 0.553103\n",
      "Minibatch accuracy: 83.6%\n",
      "Validation accuracy: 84.9%\n",
      "Minibatch loss at step 4000: 0.407349\n",
      "Minibatch accuracy: 86.7%\n",
      "Validation accuracy: 85.1%\n",
      "Minibatch loss at step 4500: 0.593406\n",
      "Minibatch accuracy: 83.6%\n",
      "Validation accuracy: 85.2%\n",
      "Minibatch loss at step 5000: 0.558426\n",
      "Minibatch accuracy: 87.5%\n",
      "Validation accuracy: 85.6%\n",
      "Minibatch loss at step 5500: 0.635687\n",
      "Minibatch accuracy: 81.2%\n",
      "Validation accuracy: 85.6%\n",
      "Minibatch loss at step 6000: 0.632060\n",
      "Minibatch accuracy: 83.6%\n",
      "Validation accuracy: 85.7%\n",
      "Minibatch loss at step 6500: 0.568499\n",
      "Minibatch accuracy: 81.2%\n",
      "Validation accuracy: 86.0%\n",
      "Minibatch loss at step 7000: 0.388030\n",
      "Minibatch accuracy: 88.3%\n",
      "Validation accuracy: 86.0%\n",
      "Minibatch loss at step 7500: 0.506619\n",
      "Minibatch accuracy: 85.9%\n",
      "Validation accuracy: 85.9%\n",
      "Minibatch loss at step 8000: 0.571663\n",
      "Minibatch accuracy: 82.8%\n",
      "Validation accuracy: 86.2%\n",
      "Minibatch loss at step 8500: 0.717912\n",
      "Minibatch accuracy: 83.6%\n",
      "Validation accuracy: 86.3%\n",
      "Minibatch loss at step 9000: 0.546633\n",
      "Minibatch accuracy: 86.7%\n",
      "Validation accuracy: 86.5%\n",
      "Minibatch loss at step 9500: 0.599148\n",
      "Minibatch accuracy: 82.8%\n",
      "Validation accuracy: 86.4%\n",
      "Minibatch loss at step 10000: 0.601012\n",
      "Minibatch accuracy: 85.9%\n",
      "Validation accuracy: 86.5%\n",
      "Minibatch loss at step 10500: 0.483022\n",
      "Minibatch accuracy: 85.9%\n",
      "Validation accuracy: 86.5%\n",
      "Minibatch loss at step 11000: 0.642382\n",
      "Minibatch accuracy: 79.7%\n",
      "Validation accuracy: 86.5%\n",
      "Minibatch loss at step 11500: 0.338153\n",
      "Minibatch accuracy: 89.8%\n",
      "Validation accuracy: 86.6%\n",
      "Minibatch loss at step 12000: 0.561879\n",
      "Minibatch accuracy: 82.8%\n",
      "Validation accuracy: 86.8%\n",
      "Minibatch loss at step 12500: 0.341355\n",
      "Minibatch accuracy: 90.6%\n",
      "Validation accuracy: 86.9%\n",
      "Minibatch loss at step 13000: 0.423207\n",
      "Minibatch accuracy: 88.3%\n",
      "Validation accuracy: 87.0%\n",
      "Minibatch loss at step 13500: 0.604345\n",
      "Minibatch accuracy: 81.2%\n",
      "Validation accuracy: 86.8%\n",
      "Minibatch loss at step 14000: 0.413769\n",
      "Minibatch accuracy: 88.3%\n",
      "Validation accuracy: 87.1%\n",
      "Minibatch loss at step 14500: 0.480148\n",
      "Minibatch accuracy: 89.1%\n",
      "Validation accuracy: 87.3%\n",
      "Minibatch loss at step 15000: 0.683103\n",
      "Minibatch accuracy: 83.6%\n",
      "Validation accuracy: 87.2%\n",
      "Minibatch loss at step 15500: 0.411103\n",
      "Minibatch accuracy: 85.9%\n",
      "Validation accuracy: 87.0%\n",
      "Minibatch loss at step 16000: 0.527712\n",
      "Minibatch accuracy: 85.2%\n",
      "Validation accuracy: 87.1%\n",
      "Minibatch loss at step 16500: 0.469851\n",
      "Minibatch accuracy: 84.4%\n",
      "Validation accuracy: 87.3%\n",
      "Minibatch loss at step 17000: 0.405558\n",
      "Minibatch accuracy: 85.9%\n",
      "Validation accuracy: 87.4%\n",
      "Minibatch loss at step 17500: 0.566480\n",
      "Minibatch accuracy: 83.6%\n",
      "Validation accuracy: 87.5%\n",
      "Minibatch loss at step 18000: 0.515202\n",
      "Minibatch accuracy: 84.4%\n",
      "Validation accuracy: 87.4%\n",
      "Minibatch loss at step 18500: 0.601414\n",
      "Minibatch accuracy: 85.2%\n",
      "Validation accuracy: 87.6%\n",
      "Minibatch loss at step 19000: 0.754604\n",
      "Minibatch accuracy: 81.2%\n",
      "Validation accuracy: 87.5%\n",
      "Minibatch loss at step 19500: 0.543277\n",
      "Minibatch accuracy: 84.4%\n",
      "Validation accuracy: 87.6%\n",
      "Minibatch loss at step 20000: 0.356865\n",
      "Minibatch accuracy: 89.8%\n",
      "Validation accuracy: 87.6%\n",
      "Minibatch loss at step 20500: 0.578359\n",
      "Minibatch accuracy: 81.2%\n",
      "Validation accuracy: 87.5%\n",
      "Minibatch loss at step 21000: 0.393454\n",
      "Minibatch accuracy: 85.9%\n",
      "Validation accuracy: 87.9%\n",
      "Minibatch loss at step 21500: 0.405763\n",
      "Minibatch accuracy: 85.2%\n",
      "Validation accuracy: 87.7%\n",
      "Minibatch loss at step 22000: 0.568583\n",
      "Minibatch accuracy: 82.0%\n",
      "Validation accuracy: 87.9%\n",
      "Minibatch loss at step 22500: 0.605073\n",
      "Minibatch accuracy: 81.2%\n",
      "Validation accuracy: 87.9%\n",
      "Minibatch loss at step 23000: 0.470111\n",
      "Minibatch accuracy: 85.9%\n",
      "Validation accuracy: 87.5%\n",
      "Minibatch loss at step 23500: 0.438453\n",
      "Minibatch accuracy: 89.8%\n",
      "Validation accuracy: 87.8%\n",
      "Minibatch loss at step 24000: 0.502052\n",
      "Minibatch accuracy: 85.2%\n",
      "Validation accuracy: 87.8%\n",
      "Minibatch loss at step 24500: 0.373675\n",
      "Minibatch accuracy: 90.6%\n",
      "Validation accuracy: 87.9%\n",
      "Minibatch loss at step 25000: 0.321534\n",
      "Minibatch accuracy: 91.4%\n",
      "Validation accuracy: 88.0%\n",
      "Minibatch loss at step 25500: 0.281861\n",
      "Minibatch accuracy: 93.0%\n",
      "Validation accuracy: 88.0%\n",
      "Minibatch loss at step 26000: 0.552976\n",
      "Minibatch accuracy: 87.5%\n",
      "Validation accuracy: 88.0%\n",
      "Minibatch loss at step 26500: 0.317445\n",
      "Minibatch accuracy: 90.6%\n",
      "Validation accuracy: 88.0%\n",
      "Minibatch loss at step 27000: 0.436625\n",
      "Minibatch accuracy: 84.4%\n",
      "Validation accuracy: 87.9%\n",
      "Minibatch loss at step 27500: 0.457251\n",
      "Minibatch accuracy: 84.4%\n",
      "Validation accuracy: 88.1%\n",
      "Minibatch loss at step 28000: 0.528270\n",
      "Minibatch accuracy: 83.6%\n",
      "Validation accuracy: 88.2%\n",
      "Minibatch loss at step 28500: 0.461923\n",
      "Minibatch accuracy: 85.9%\n",
      "Validation accuracy: 88.2%\n"
     ]
    }
   ],
   "source": [
    "num_steps = 30001\n",
    "\n",
    "with tf.Session(graph=graph) as session:\n",
    "  tf.global_variables_initializer().run()\n",
    "  print(\"Initialized\")\n",
    "  for step in range(num_steps):\n",
    "    # Pick an offset within the training data, which has been randomized.\n",
    "    # Note: we could use better randomization across epochs.\n",
    "    offset = (step * batch_size) % (train_labels.shape[0] - batch_size)\n",
    "    # Generate a minibatch.\n",
    "    batch_data = train_dataset[offset:(offset + batch_size), :]\n",
    "    batch_labels = train_labels[offset:(offset + batch_size), :]\n",
    "    # Prepare a dictionary telling the session where to feed the minibatch.\n",
    "    # The key of the dictionary is the placeholder node of the graph to be fed,\n",
    "    # and the value is the numpy array to feed to it.\n",
    "    feed_dict = {tf_train_dataset : batch_data, tf_train_labels : batch_labels}\n",
    "    _, l, predictions = session.run(\n",
    "      [optimizer, loss, train_prediction], feed_dict=feed_dict)\n",
    "    if (step % 500 == 0):\n",
    "      print(\"Minibatch loss at step %d: %f\" % (step, l))\n",
    "      print(\"Minibatch accuracy: %.1f%%\" % accuracy(predictions, batch_labels))\n",
    "      print(\"Validation accuracy: %.1f%%\" % accuracy(\n",
    "        valid_prediction.eval(), valid_labels))\n",
    "  print(\"Test accuracy: %.1f%%\" % accuracy(test_prediction.eval(), test_labels))"
   ]
  },
  {
   "cell_type": "markdown",
   "metadata": {
    "deletable": true,
    "editable": true
   },
   "source": [
    "<table style='text-align:center'>\n",
    "<tr>\n",
    "<th>Reg</th><th># Steps</th><th># Hidden</th><th>Result1</th><th>Result2</th>\n",
    "</tr>\n",
    "<tr bgcolor='#ffff99'>\n",
    "<td>L2</td><td>30001</td><td>128^3</td><td>95.2%</td><td>95.4%</td>\n",
    "</tr>\n",
    "<tr bgcolor='#ffff99'>\n",
    "<td>-</td><td>30001</td><td>128^3</td><td>94.7%</td><td>94.9%</td>\n",
    "</tr>\n",
    "<tr bgcolor='#ffff99'>\n",
    "<td>Dropout (0.5)</td><td>30001</td><td>256^3</td><td>94.4% (Minibatch 85.9%)</td><td></td>\n",
    "</tr>\n",
    "<tr bgcolor='#ffff99'>\n",
    "<td>Dropout (0.5) + Learn decay</td><td>30001</td><td>256^3</td><td>94.2% (Minibatch 88.3%)</td><td></td>\n",
    "</tr>\n",
    "<tr bgcolor='#99ccff'>\n",
    "<td>L2</td><td>30001</td><td>128^4</td><td>95.2% (Minibatch 93.8%)</td><td>95.3% (Minibatch 94.5%)</td>\n",
    "</tr>\n",
    "<tr bgcolor = '#99ccff'>\n",
    "<td>-</td><td>30001</td><td>128^4</td><td>94.8% (Minibatch 96.9%)</td><td>94.7% (Minibatch 95.3%)</td>\n",
    "</tr>\n",
    "<tr bgcolor='#00cc99'>\n",
    "<td>L2</td><td>4001</td><td>128^4</td><td>93.4%</td><td>93.5%</td>\n",
    "</tr>\n",
    "<tr bgcolor='#00cc99'>\n",
    "<td>-</td><td>4001</td><td>128^4</td><td>93.7%</td><td>93.7%</td>\n",
    "</tr>\n",
    "<tr bgcolor='green'>\n",
    "<td>Dropout (0.5)</td><td>3001</td><td>1024</td><td>92.3% (Minibatch 81.2%)</td><td>92.1% (Minibatch 81.2%)</td>\n",
    "</tr>\n",
    "<tr bgcolor='green'>\n",
    "<td>-</td><td>3001</td><td>1024</td><td>92.8 (Minibatch 82.0%)</td><td>92.7% (Minibatch 82.8%)</td>\n",
    "</tr>\n",
    "</table>\n",
    "\n",
    "<b>Conclusion for L2: </b>Large number of steps on too small training data causes overfitting, L2 prevents that. But with too few steps the same data does not gets retrained so much, and L2 does not help at all."
   ]
  },
  {
   "cell_type": "markdown",
   "metadata": {
    "colab_type": "text",
    "deletable": true,
    "editable": true,
    "id": "na8xX2yHZzNF"
   },
   "source": [
    "---\n",
    "Problem 2\n",
    "---------\n",
    "Let's demonstrate an extreme case of overfitting. Restrict your training data to just a few batches. What happens?\n",
    "\n",
    "---"
   ]
  },
  {
   "cell_type": "code",
   "execution_count": 59,
   "metadata": {
    "collapsed": false,
    "deletable": true,
    "editable": true,
    "scrolled": true
   },
   "outputs": [
    {
     "name": "stdout",
     "output_type": "stream",
     "text": [
      "Initialized\n",
      "Minibatch loss at step 0: 2.562675\n",
      "Minibatch accuracy: 8.6%\n",
      "Validation accuracy: 19.8%\n",
      "Test accuracy: 66.6%\n"
     ]
    }
   ],
   "source": [
    "num_steps = 501\n",
    "\n",
    "small_train_set = train_dataset[:300]\n",
    "small_train_labels = train_labels[:300]\n",
    "\n",
    "with tf.Session(graph=graph) as session:\n",
    "  tf.global_variables_initializer().run()\n",
    "  print(\"Initialized\")\n",
    "  for step in range(num_steps):\n",
    "    # Pick an offset within the training data, which has been randomized.\n",
    "    # Note: we could use better randomization across epochs.\n",
    "    offset = (step * batch_size) % (small_train_labels.shape[0] - batch_size)\n",
    "    # Generate a minibatch.\n",
    "    batch_data = small_train_set[offset:(offset + batch_size), :]\n",
    "    batch_labels = small_train_labels[offset:(offset + batch_size), :]\n",
    "    # Prepare a dictionary telling the session where to feed the minibatch.\n",
    "    # The key of the dictionary is the placeholder node of the graph to be fed,\n",
    "    # and the value is the numpy array to feed to it.\n",
    "    feed_dict = {tf_train_dataset : batch_data, tf_train_labels : batch_labels}\n",
    "    _, l, predictions = session.run(\n",
    "      [optimizer, loss, train_prediction], feed_dict=feed_dict)\n",
    "    if (step % 500 == 0):\n",
    "      print(\"Minibatch loss at step %d: %f\" % (step, l))\n",
    "      print(\"Minibatch accuracy: %.1f%%\" % accuracy(predictions, batch_labels))\n",
    "      print(\"Validation accuracy: %.1f%%\" % accuracy(\n",
    "        valid_prediction.eval(), valid_labels))\n",
    "  print(\"Test accuracy: %.1f%%\" % accuracy(test_prediction.eval(), test_labels))"
   ]
  },
  {
   "cell_type": "markdown",
   "metadata": {
    "deletable": true,
    "editable": true
   },
   "source": [
    "<center>Training data size: 300</center>\n",
    "\n",
    "<table style='text-align:center'>\n",
    "<tr>\n",
    "<th>Reg</th><th># Steps</th><th># Hidden</th><th>Result1</th><th>Result2</th>\n",
    "</tr>\n",
    "<tr bgcolor='#ffff99'>\n",
    "<td>L2</td><td>501</td><td>128^3</td><td>83% (Minibatch 100%)</td><td>82.6% (Minibatch 100%)</td>\n",
    "</tr>\n",
    "<tr bgcolor='#ffff99'>\n",
    "<td>-</td><td>501</td><td>128^3</td><td>82.6% (Minibatch 100%)</td><td>82.5% (Minibatch 100%)</td>\n",
    "</tr>\n",
    "<tr bgcolor='#ffff99'>\n",
    "<td>-</td><td>501</td><td>256^3</td><td>83.7% (Minibatch 100%)</td><td>83.3% (Minibatch 100%)</td>\n",
    "</tr>\n",
    "<tr bgcolor='#ffff99'>\n",
    "<td>Dropout (0.5)</td><td>501</td><td>256^3</td><td>83.2% (Minibatch 92.2%)</td><td>83.9% (Minibatch 96.1%)</td>\n",
    "</tr>\n",
    "<tr bgcolor='#ffff99'>\n",
    "<td>L2 + Dropout (0.5)</td><td>501</td><td>256^3</td><td>83.0% (Minibatch 92.2%)</td><td>83.3% (Minibatch 96.1%)</td>\n",
    "</tr>\n",
    "<tr bgcolor='green'>\n",
    "<td>Dropout (0.5)</td><td>501</td><td>1024</td><td>83% (Minibatch 98.4%)</td><td>82.8% (Minibatch 100%)</td>\n",
    "</tr>\n",
    "<tr bgcolor='green'>\n",
    "<td>-</td><td>501</td><td>1024</td><td>83.5% (Minibatch 100%)</td><td>83% (Minibatch 100%)</td>\n",
    "</tr>\n",
    "<tr bgcolor='green'>\n",
    "<td>L2</td><td>501</td><td>1024</td><td>82.7% (Minibatch 100%)</td><td>82.5% (Minibatch 100%)</td>\n",
    "</tr>\n",
    "</table>"
   ]
  },
  {
   "cell_type": "markdown",
   "metadata": {
    "colab_type": "text",
    "deletable": true,
    "editable": true,
    "id": "ww3SCBUdlkRc"
   },
   "source": [
    "---\n",
    "Problem 3\n",
    "---------\n",
    "Introduce Dropout on the hidden layer of the neural network. Remember: Dropout should only be introduced during training, not evaluation, otherwise your evaluation results would be stochastic as well. TensorFlow provides `nn.dropout()` for that, but you have to make sure it's only inserted during training.\n",
    "\n",
    "What happens to our extreme overfitting case?\n",
    "\n",
    "---"
   ]
  },
  {
   "cell_type": "markdown",
   "metadata": {
    "collapsed": true,
    "deletable": true,
    "editable": true
   },
   "source": [
    "Answer\n",
    "-------\n",
    "<b>Conclusion: less overfitting: </b> The minibatch accuracy became less than 100%. Although L2 does not seem to have effect here</b>"
   ]
  },
  {
   "cell_type": "markdown",
   "metadata": {
    "colab_type": "text",
    "deletable": true,
    "editable": true,
    "id": "-b1hTz3VWZjw"
   },
   "source": [
    "---\n",
    "Problem 4\n",
    "---------\n",
    "\n",
    "Try to get the best performance you can using a multi-layer model! The best reported test accuracy using a deep network is [97.1%](http://yaroslavvb.blogspot.com/2011/09/notmnist-dataset.html?showComment=1391023266211#c8758720086795711595).\n",
    "\n",
    "One avenue you can explore is to add multiple layers.\n",
    "\n",
    "Another one is to use learning rate decay:\n",
    "\n",
    "    global_step = tf.Variable(0)  # count the number of steps taken.\n",
    "    learning_rate = tf.train.exponential_decay(0.5, global_step, ...)\n",
    "    optimizer = tf.train.GradientDescentOptimizer(learning_rate).minimize(loss, global_step=global_step)\n",
    " \n",
    " ---\n"
   ]
  },
  {
   "cell_type": "code",
   "execution_count": 57,
   "metadata": {
    "collapsed": false,
    "deletable": true,
    "editable": true
   },
   "outputs": [
    {
     "data": {
      "text/plain": [
       "1024"
      ]
     },
     "execution_count": 57,
     "metadata": {},
     "output_type": "execute_result"
    }
   ],
   "source": []
  }
 ],
 "metadata": {
  "colab": {
   "default_view": {},
   "name": "3_regularization.ipynb",
   "provenance": [],
   "version": "0.3.2",
   "views": {}
  },
  "kernelspec": {
   "display_name": "Python 2",
   "language": "python",
   "name": "python2"
  },
  "language_info": {
   "codemirror_mode": {
    "name": "ipython",
    "version": 2
   },
   "file_extension": ".py",
   "mimetype": "text/x-python",
   "name": "python",
   "nbconvert_exporter": "python",
   "pygments_lexer": "ipython2",
   "version": "2.7.6"
  }
 },
 "nbformat": 4,
 "nbformat_minor": 0
}
